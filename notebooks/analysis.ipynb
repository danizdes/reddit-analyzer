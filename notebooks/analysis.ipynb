{
 "cells": [
  {
   "cell_type": "markdown",
   "metadata": {},
   "source": [
    "### Aim\n",
    "\n",
    "* The code first aims to collect the average comments per post of all the subreddits (listed below)\n",
    "* Then the data is compared with other subreddits in it's own niche\n",
    "* An average of all the comments per post of each subreddit in it's niche is also calculated and compared with appropriate graphs "
   ]
  },
  {
   "cell_type": "markdown",
   "metadata": {},
   "source": [
    "### Niches"
   ]
  },
  {
   "cell_type": "code",
   "execution_count": 1,
   "metadata": {},
   "outputs": [],
   "source": [
    "subreddits = [\n",
    "    # Technology\n",
    "    \"programming\",\n",
    "    \"machinelearning\",\n",
    "    \"technology\",\n",
    "    # Gaming\n",
    "    \"gaming\",\n",
    "    \"Minecraft\",\n",
    "    \"leagueoflegends\",\n",
    "    # Fitness & Health\n",
    "    \"fitness\",\n",
    "    \"running\",\n",
    "    \"nutrition\",\n",
    "    ]"
   ]
  },
  {
   "cell_type": "markdown",
   "metadata": {},
   "source": [
    "Limit of posts to view in each subreddit. Increasing this value would increase accuracy"
   ]
  },
  {
   "cell_type": "code",
   "execution_count": 2,
   "metadata": {},
   "outputs": [],
   "source": [
    "post_limit = 100"
   ]
  },
  {
   "cell_type": "markdown",
   "metadata": {},
   "source": [
    "Currently there are 3 subreddits per niche as well as 3 niches only. While this is small, in the future more subreddits and more niches will be added."
   ]
  },
  {
   "cell_type": "markdown",
   "metadata": {},
   "source": [
    "### Imports"
   ]
  },
  {
   "cell_type": "markdown",
   "metadata": {},
   "source": [
    "Praw is reddit's official API, and will be used to collect the necassary data from each subreddit"
   ]
  },
  {
   "cell_type": "code",
   "execution_count": 3,
   "metadata": {},
   "outputs": [],
   "source": [
    "import praw"
   ]
  },
  {
   "cell_type": "markdown",
   "metadata": {},
   "source": [
    "This will be used to get the enviromental variables from the \".env\" file saved in the root directory"
   ]
  },
  {
   "cell_type": "code",
   "execution_count": 4,
   "metadata": {},
   "outputs": [],
   "source": [
    "from dotenv import load_dotenv\n",
    "import os"
   ]
  },
  {
   "cell_type": "markdown",
   "metadata": {},
   "source": [
    "Pandas is used to convert the dats into a CSV file"
   ]
  },
  {
   "cell_type": "code",
   "execution_count": 5,
   "metadata": {},
   "outputs": [],
   "source": [
    "import pandas as pd"
   ]
  },
  {
   "cell_type": "markdown",
   "metadata": {},
   "source": [
    "The client_id, client_secret, and user agent has been saved in .env. And using dotenv will be loaded in to the script. "
   ]
  },
  {
   "cell_type": "code",
   "execution_count": 6,
   "metadata": {},
   "outputs": [
    {
     "data": {
      "text/plain": [
       "True"
      ]
     },
     "execution_count": 6,
     "metadata": {},
     "output_type": "execute_result"
    }
   ],
   "source": [
    "load_dotenv()"
   ]
  },
  {
   "cell_type": "markdown",
   "metadata": {},
   "source": [
    "Accessing the variables"
   ]
  },
  {
   "cell_type": "code",
   "execution_count": 7,
   "metadata": {},
   "outputs": [],
   "source": [
    "client_id = os.getenv(\"CLIENT_ID\")\n",
    "client_secret = os.getenv(\"CLIENT_SECRET\")\n",
    "username = os.getenv(\"USERNAME\")"
   ]
  },
  {
   "cell_type": "markdown",
   "metadata": {},
   "source": [
    "Creating main object, using .env variables"
   ]
  },
  {
   "cell_type": "code",
   "execution_count": 8,
   "metadata": {},
   "outputs": [],
   "source": [
    "reddit = praw.Reddit(\n",
    "    client_id=client_id,\n",
    "    client_secret=client_secret,\n",
    "    user_agent=f\"SubredditActivityComparator by /u/{username}\",\n",
    ")"
   ]
  },
  {
   "cell_type": "markdown",
   "metadata": {},
   "source": [
    "## Getting and storing the data\n",
    "\n",
    "The data would be stored in a list full of dictionaries. This is a good way to visualise it:\n",
    "\n",
    "| Subreddit | Total Comments | Comments / Post |\n",
    "|----------|----------|----------|\n",
    "| technology    | ...  | ...  |\n",
    "| gaming    | ...  | ...  |\n",
    "\n",
    "The code below loops through each subreddit, collects the total comments and comments per post and saves them in the data list.\n"
   ]
  },
  {
   "cell_type": "code",
   "execution_count": 9,
   "metadata": {},
   "outputs": [],
   "source": [
    "data = [] # List storing all the subreddit data\n",
    "\n",
    "for sub in subreddits: # Loop through each subreddit\n",
    "    subreddit = reddit.subreddit(sub)\n",
    "    \n",
    "    posts = list(subreddit.new(limit=post_limit))\n",
    "    \n",
    "    total_posts = len(posts)\n",
    "    total_comments = sum(post.num_comments for post in posts)\n",
    "    avg_comments = total_comments / total_posts if total_posts > 0 else 0  # calculate avg_comments by dividing the total comments with the total posts\n",
    "    \n",
    "    # Append the dictionary to the data list\n",
    "    data.append({\n",
    "        \"Subreddit\": subreddit,\n",
    "        \"Posts Scanned\": post_limit,\n",
    "        \"Total Comments\": total_comments,\n",
    "        \"Avgerage Comments\": avg_comments,\n",
    "    })"
   ]
  },
  {
   "cell_type": "markdown",
   "metadata": {},
   "source": [
    "Convert the list to a data frame"
   ]
  },
  {
   "cell_type": "code",
   "execution_count": 10,
   "metadata": {},
   "outputs": [],
   "source": [
    "df = pd.DataFrame(data)"
   ]
  },
  {
   "cell_type": "markdown",
   "metadata": {},
   "source": [
    "Export to CSV"
   ]
  },
  {
   "cell_type": "code",
   "execution_count": 11,
   "metadata": {},
   "outputs": [],
   "source": [
    "df.to_csv(\"../data/raw/subreddit_stats.csv\", index=False)"
   ]
  }
 ],
 "metadata": {
  "kernelspec": {
   "display_name": "Python 3",
   "language": "python",
   "name": "python3"
  },
  "language_info": {
   "codemirror_mode": {
    "name": "ipython",
    "version": 3
   },
   "file_extension": ".py",
   "mimetype": "text/x-python",
   "name": "python",
   "nbconvert_exporter": "python",
   "pygments_lexer": "ipython3",
   "version": "3.11.5"
  }
 },
 "nbformat": 4,
 "nbformat_minor": 2
}
