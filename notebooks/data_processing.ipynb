{
 "cells": [
  {
   "cell_type": "markdown",
   "metadata": {},
   "source": [
    "## Imports"
   ]
  },
  {
   "cell_type": "code",
   "execution_count": 1,
   "metadata": {},
   "outputs": [],
   "source": [
    "import pandas as pd"
   ]
  },
  {
   "cell_type": "markdown",
   "metadata": {},
   "source": [
    "Reading the data from the subreddit_stats file in data/raw folder and converting it from a CSV to a pandas data frame"
   ]
  },
  {
   "cell_type": "code",
   "execution_count": 2,
   "metadata": {},
   "outputs": [],
   "source": [
    "df = pd.read_csv(\"../data/raw/subreddit_stats.csv\")"
   ]
  },
  {
   "cell_type": "markdown",
   "metadata": {},
   "source": [
    "## Technology\n",
    "\n",
    "The goal is to take extract the subreddit and comments per post columns and the technology niche *only* and save it as a\n",
    "processed csv file"
   ]
  },
  {
   "cell_type": "code",
   "execution_count": 3,
   "metadata": {},
   "outputs": [],
   "source": [
    "# Technology subreddits\n",
    "technology = [\n",
    "   \"programming\",\n",
    "    \"machinelearning\",\n",
    "    \"technology\",\n",
    "]\n",
    "\n",
    "# Get only the 2 columns\n",
    "df_technology = df[[\"Subreddit\", \"Avgerage Comments\"]]\n",
    "\n",
    "# Only get data from technology niche\n",
    "df_technology = df_technology[df_technology['Subreddit'].isin(technology)]"
   ]
  },
  {
   "cell_type": "markdown",
   "metadata": {},
   "source": [
    "This will be repeated for the remaining 2 niches:\n",
    "\n",
    "* Gaming\n",
    "* Fitness & helth"
   ]
  },
  {
   "cell_type": "markdown",
   "metadata": {},
   "source": [
    "## Gaming"
   ]
  },
  {
   "cell_type": "code",
   "execution_count": 4,
   "metadata": {},
   "outputs": [],
   "source": [
    "# Gaming subreddits\n",
    "gaming = [\n",
    "    \"gaming\",\n",
    "    \"Minecraft\",\n",
    "    \"leagueoflegends\",\n",
    "]\n",
    "\n",
    "# Get only the 2 columns\n",
    "df_gaming = df[[\"Subreddit\", \"Avgerage Comments\"]]\n",
    "\n",
    "# Only get data from technology niche\n",
    "df_gaming = df_gaming[df_gaming['Subreddit'].isin(gaming)]"
   ]
  },
  {
   "cell_type": "markdown",
   "metadata": {},
   "source": [
    "## Fitness & Health"
   ]
  },
  {
   "cell_type": "code",
   "execution_count": 5,
   "metadata": {},
   "outputs": [],
   "source": [
    "#  Fitness subreddits\n",
    "fitness = [\n",
    "    \"fitness\",\n",
    "    \"running\",\n",
    "    \"nutrition\",\n",
    "]\n",
    "\n",
    "# Get only the 2 columns\n",
    "df_fitness = df[[\"Subreddit\", \"Avgerage Comments\"]]\n",
    "\n",
    "# Only get data from technology niche\n",
    "df_fitness = df_fitness[df_fitness['Subreddit'].isin(fitness)]"
   ]
  },
  {
   "cell_type": "markdown",
   "metadata": {},
   "source": [
    "Convert the dataframes into CSV files"
   ]
  },
  {
   "cell_type": "code",
   "execution_count": 6,
   "metadata": {},
   "outputs": [],
   "source": [
    "df_technology.to_csv(\"../data/processed/subreddit_stats_tech.csv\", index=False) # Technology\n",
    "df_gaming.to_csv(\"../data/processed/subreddit_stats_gaming.csv\", index=False) # Gaming\n",
    "df_fitness.to_csv(\"../data/processed/subreddit_stats_fitness.csv\", index=False) # Fitness"
   ]
  },
  {
   "cell_type": "markdown",
   "metadata": {},
   "source": [
    "## Niche Comparison\n",
    "\n",
    "Now we'll compare the niche, the data we want to build will look like this:\n",
    "\n",
    "| Niche | Average Comments per Post|\n",
    "|----------|----------|\n",
    "| technology | ...  |\n",
    "| gaming    | ...  |\n",
    "\n",
    "For this we'll get mean of comments per post of each niche."
   ]
  },
  {
   "cell_type": "code",
   "execution_count": 7,
   "metadata": {},
   "outputs": [],
   "source": [
    "mean_tech = df_technology[\"Avgerage Comments\"].mean() # Technology\n",
    "mean_gaming = df_gaming[\"Avgerage Comments\"].mean() # Gaming\n",
    "mean_fitness = df_fitness[\"Avgerage Comments\"].mean() # Fitness"
   ]
  },
  {
   "cell_type": "markdown",
   "metadata": {},
   "source": [
    "Now we create a new dataframe with our custom columns"
   ]
  },
  {
   "cell_type": "code",
   "execution_count": 8,
   "metadata": {},
   "outputs": [],
   "source": [
    "niche = pd.DataFrame(columns=[\"Niche\", \"Average Comments\"])"
   ]
  },
  {
   "cell_type": "markdown",
   "metadata": {},
   "source": [
    "And now we append (ie. add a row) for each of our niche's"
   ]
  },
  {
   "cell_type": "code",
   "execution_count": 9,
   "metadata": {},
   "outputs": [
    {
     "name": "stderr",
     "output_type": "stream",
     "text": [
      "C:\\Users\\Daniyal\\AppData\\Local\\Temp\\ipykernel_12576\\372932872.py:20: FutureWarning: The behavior of DataFrame concatenation with empty or all-NA entries is deprecated. In a future version, this will no longer exclude empty or all-NA columns when determining the result dtypes. To retain the old behavior, exclude the relevant entries before the concat operation.\n",
      "  niche = pd.concat([niche, technology_niche, gaming_niche, fitness_niche])\n"
     ]
    }
   ],
   "source": [
    "# Technology\n",
    "technology_niche = pd.DataFrame({\n",
    "    \"Niche\": \"Technology\",\n",
    "    \"Average Comments\": mean_tech\n",
    "}, index=[0])\n",
    "\n",
    "# Gaming \n",
    "gaming_niche = pd.DataFrame({\n",
    "    \"Niche\": \"Gaming\",\n",
    "    \"Average Comments\": mean_gaming\n",
    "}, index=[0])\n",
    "\n",
    "# Fitness\n",
    "fitness_niche = pd.DataFrame({\n",
    "    \"Niche\": \"Fitness\",\n",
    "    \"Average Comments\": mean_fitness\n",
    "}, index=[0])\n",
    "\n",
    "# Concatenate all\n",
    "niche = pd.concat([niche, technology_niche, gaming_niche, fitness_niche])"
   ]
  },
  {
   "cell_type": "markdown",
   "metadata": {},
   "source": [
    "Convert dataframe to CSV"
   ]
  },
  {
   "cell_type": "code",
   "execution_count": 10,
   "metadata": {},
   "outputs": [],
   "source": [
    "niche.to_csv(\"../data/processed/niche_comparisons.csv\", index=False)"
   ]
  },
  {
   "cell_type": "markdown",
   "metadata": {},
   "source": [
    "## Overall Summary\n",
    "\n",
    "This is the final processing, here the total Posts Scanned, and Total comments are added. This is how we want it to look:\n",
    "\n",
    "| T. Posts Scanned | Total Comments|\n",
    "|----------|----------|\n",
    "| ... | ...  |\n"
   ]
  },
  {
   "cell_type": "markdown",
   "metadata": {},
   "source": [
    "Initializing the dataframe"
   ]
  },
  {
   "cell_type": "code",
   "execution_count": 11,
   "metadata": {},
   "outputs": [],
   "source": [
    "summary = pd.DataFrame()"
   ]
  },
  {
   "cell_type": "markdown",
   "metadata": {},
   "source": [
    "Getting total of the posts scanned and total of the comments"
   ]
  },
  {
   "cell_type": "code",
   "execution_count": 12,
   "metadata": {},
   "outputs": [],
   "source": [
    "total_posts = df[\"Posts Scanned\"].sum() # Total posts\n",
    "total_comments = df[\"Total Comments\"].sum() # Total comments\n",
    "\n",
    "total_summary = pd.DataFrame(\n",
    "    {\n",
    "        \"Posts Scanned\": total_posts,\n",
    "        \"Total Comments\": total_comments,\n",
    "    }, index=[0]\n",
    ")"
   ]
  },
  {
   "cell_type": "markdown",
   "metadata": {},
   "source": [
    "Now we finally concatenate everything and convert it to a CSV"
   ]
  },
  {
   "cell_type": "code",
   "execution_count": 13,
   "metadata": {},
   "outputs": [],
   "source": [
    "# Concatenate Everything\n",
    "summary = pd.concat([summary, total_summary])\n",
    "\n",
    "# Convert to CSV\n",
    "summary.to_csv(\"../data/processed/overall_summary.csv\", index=False)"
   ]
  }
 ],
 "metadata": {
  "kernelspec": {
   "display_name": "Python 3",
   "language": "python",
   "name": "python3"
  },
  "language_info": {
   "codemirror_mode": {
    "name": "ipython",
    "version": 3
   },
   "file_extension": ".py",
   "mimetype": "text/x-python",
   "name": "python",
   "nbconvert_exporter": "python",
   "pygments_lexer": "ipython3",
   "version": "3.11.5"
  }
 },
 "nbformat": 4,
 "nbformat_minor": 2
}
